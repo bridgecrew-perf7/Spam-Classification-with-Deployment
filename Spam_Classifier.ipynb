{
  "nbformat": 4,
  "nbformat_minor": 0,
  "metadata": {
    "colab": {
      "name": "Spam Classifier.ipynb",
      "provenance": [],
      "collapsed_sections": [],
      "authorship_tag": "ABX9TyO7hwePfHNCl6j+cr4phDOG",
      "include_colab_link": true
    },
    "kernelspec": {
      "name": "python3",
      "display_name": "Python 3"
    },
    "language_info": {
      "name": "python"
    },
    "accelerator": "TPU"
  },
  "cells": [
    {
      "cell_type": "markdown",
      "metadata": {
        "id": "view-in-github",
        "colab_type": "text"
      },
      "source": [
        "<a href=\"https://colab.research.google.com/github/nitish-pandey/Spam-Classifier/blob/main/Spam_Classifier.ipynb\" target=\"_parent\"><img src=\"https://colab.research.google.com/assets/colab-badge.svg\" alt=\"Open In Colab\"/></a>"
      ]
    },
    {
      "cell_type": "markdown",
      "metadata": {
        "id": "GCH2YHf_tMlz"
      },
      "source": [
        "## Basic Imports"
      ]
    },
    {
      "cell_type": "code",
      "metadata": {
        "id": "xJ_zyRVHs_1Y"
      },
      "source": [
        "from os import remove\n",
        "import pandas as pd\n",
        "import numpy \n",
        "import sklearn\n",
        "import re"
      ],
      "execution_count": 1,
      "outputs": []
    },
    {
      "cell_type": "code",
      "metadata": {
        "id": "1B-tq-Hky6VL",
        "colab": {
          "base_uri": "https://localhost:8080/"
        },
        "outputId": "535e8e68-9d2b-40ea-e2ae-075092210747"
      },
      "source": [
        "import nltk\n",
        "nltk.download('stopwords')\n",
        "nltk.download('wordnet')\n",
        "nltk.download('punkt')"
      ],
      "execution_count": 2,
      "outputs": [
        {
          "output_type": "stream",
          "name": "stdout",
          "text": [
            "[nltk_data] Downloading package stopwords to /root/nltk_data...\n",
            "[nltk_data]   Unzipping corpora/stopwords.zip.\n",
            "[nltk_data] Downloading package wordnet to /root/nltk_data...\n",
            "[nltk_data]   Unzipping corpora/wordnet.zip.\n",
            "[nltk_data] Downloading package punkt to /root/nltk_data...\n",
            "[nltk_data]   Unzipping tokenizers/punkt.zip.\n"
          ]
        },
        {
          "output_type": "execute_result",
          "data": {
            "text/plain": [
              "True"
            ]
          },
          "metadata": {},
          "execution_count": 2
        }
      ]
    },
    {
      "cell_type": "code",
      "metadata": {
        "id": "5NhOp8L9tZoz"
      },
      "source": [
        "from nltk.corpus import stopwords\n",
        "from nltk.tokenize import sent_tokenize,word_tokenize\n",
        "from nltk.stem import WordNetLemmatizer\n",
        "\n",
        "from sklearn.feature_extraction.text import CountVectorizer\n",
        "from sklearn.model_selection import train_test_split\n",
        "from sklearn.metrics import confusion_matrix,accuracy_score,roc_auc_score,f1_score,log_loss,precision_score,recall_score,classification_report\n",
        "\n",
        "from sklearn.naive_bayes import GaussianNB,MultinomialNB\n",
        "from sklearn.svm import SVC\n",
        "from sklearn.ensemble import BaggingClassifier,GradientBoostingClassifier,RandomForestClassifier\n",
        "\n"
      ],
      "execution_count": 3,
      "outputs": []
    },
    {
      "cell_type": "markdown",
      "metadata": {
        "id": "xM6Tanbjt11X"
      },
      "source": [
        "# Data imports and preprocessing"
      ]
    },
    {
      "cell_type": "code",
      "metadata": {
        "id": "arIsEXbDtb63",
        "colab": {
          "base_uri": "https://localhost:8080/",
          "height": 206
        },
        "outputId": "f83d1009-8370-48dc-f809-8046387f29db"
      },
      "source": [
        "dataset=pd.read_csv(r'/content/spam.csv',encoding='latin-1')\n",
        "dataset.head()"
      ],
      "execution_count": 5,
      "outputs": [
        {
          "output_type": "execute_result",
          "data": {
            "text/html": [
              "<div>\n",
              "<style scoped>\n",
              "    .dataframe tbody tr th:only-of-type {\n",
              "        vertical-align: middle;\n",
              "    }\n",
              "\n",
              "    .dataframe tbody tr th {\n",
              "        vertical-align: top;\n",
              "    }\n",
              "\n",
              "    .dataframe thead th {\n",
              "        text-align: right;\n",
              "    }\n",
              "</style>\n",
              "<table border=\"1\" class=\"dataframe\">\n",
              "  <thead>\n",
              "    <tr style=\"text-align: right;\">\n",
              "      <th></th>\n",
              "      <th>v1</th>\n",
              "      <th>v2</th>\n",
              "      <th>Unnamed: 2</th>\n",
              "      <th>Unnamed: 3</th>\n",
              "      <th>Unnamed: 4</th>\n",
              "    </tr>\n",
              "  </thead>\n",
              "  <tbody>\n",
              "    <tr>\n",
              "      <th>0</th>\n",
              "      <td>ham</td>\n",
              "      <td>Go until jurong point, crazy.. Available only ...</td>\n",
              "      <td>NaN</td>\n",
              "      <td>NaN</td>\n",
              "      <td>NaN</td>\n",
              "    </tr>\n",
              "    <tr>\n",
              "      <th>1</th>\n",
              "      <td>ham</td>\n",
              "      <td>Ok lar... Joking wif u oni...</td>\n",
              "      <td>NaN</td>\n",
              "      <td>NaN</td>\n",
              "      <td>NaN</td>\n",
              "    </tr>\n",
              "    <tr>\n",
              "      <th>2</th>\n",
              "      <td>spam</td>\n",
              "      <td>Free entry in 2 a wkly comp to win FA Cup fina...</td>\n",
              "      <td>NaN</td>\n",
              "      <td>NaN</td>\n",
              "      <td>NaN</td>\n",
              "    </tr>\n",
              "    <tr>\n",
              "      <th>3</th>\n",
              "      <td>ham</td>\n",
              "      <td>U dun say so early hor... U c already then say...</td>\n",
              "      <td>NaN</td>\n",
              "      <td>NaN</td>\n",
              "      <td>NaN</td>\n",
              "    </tr>\n",
              "    <tr>\n",
              "      <th>4</th>\n",
              "      <td>ham</td>\n",
              "      <td>Nah I don't think he goes to usf, he lives aro...</td>\n",
              "      <td>NaN</td>\n",
              "      <td>NaN</td>\n",
              "      <td>NaN</td>\n",
              "    </tr>\n",
              "  </tbody>\n",
              "</table>\n",
              "</div>"
            ],
            "text/plain": [
              "     v1  ... Unnamed: 4\n",
              "0   ham  ...        NaN\n",
              "1   ham  ...        NaN\n",
              "2  spam  ...        NaN\n",
              "3   ham  ...        NaN\n",
              "4   ham  ...        NaN\n",
              "\n",
              "[5 rows x 5 columns]"
            ]
          },
          "metadata": {},
          "execution_count": 5
        }
      ]
    },
    {
      "cell_type": "code",
      "metadata": {
        "id": "55nvGnWEt7Go",
        "colab": {
          "base_uri": "https://localhost:8080/"
        },
        "outputId": "9ba6fd61-f66b-4bf8-b874-8fb4f8a8a41e"
      },
      "source": [
        "X=dataset['v2']\n",
        "y=dataset['v1']\n",
        "\n",
        "y=pd.get_dummies(y,drop_first=True)\n",
        "print(y.head(),'\\n\\n',X.head())"
      ],
      "execution_count": 6,
      "outputs": [
        {
          "output_type": "stream",
          "name": "stdout",
          "text": [
            "   spam\n",
            "0     0\n",
            "1     0\n",
            "2     1\n",
            "3     0\n",
            "4     0 \n",
            "\n",
            " 0    Go until jurong point, crazy.. Available only ...\n",
            "1                        Ok lar... Joking wif u oni...\n",
            "2    Free entry in 2 a wkly comp to win FA Cup fina...\n",
            "3    U dun say so early hor... U c already then say...\n",
            "4    Nah I don't think he goes to usf, he lives aro...\n",
            "Name: v2, dtype: object\n"
          ]
        }
      ]
    },
    {
      "cell_type": "markdown",
      "metadata": {
        "id": "JhLgCDAkw59A"
      },
      "source": [
        "# Data Cleaning"
      ]
    },
    {
      "cell_type": "code",
      "metadata": {
        "id": "JQ-z1U1Jw8Uv",
        "colab": {
          "base_uri": "https://localhost:8080/"
        },
        "outputId": "8adcd327-551c-40c7-8c00-b2808a41c4c3"
      },
      "source": [
        "stopword=set(stopwords.words('english'))\n",
        "\n",
        "lemmatizer=WordNetLemmatizer()\n",
        "\n",
        "n,=X.shape\n",
        "n"
      ],
      "execution_count": 7,
      "outputs": [
        {
          "output_type": "execute_result",
          "data": {
            "text/plain": [
              "5572"
            ]
          },
          "metadata": {},
          "execution_count": 7
        }
      ]
    },
    {
      "cell_type": "code",
      "metadata": {
        "id": "cznknW6Nyfsz"
      },
      "source": [
        "for i in range(n):\n",
        "    temp=re.sub('[^a-zA-Z]',' ',X[i])\n",
        "    temp=temp.lower()\n",
        "    temp=temp.split()\n",
        "    temp=[lemmatizer.lemmatize(word) for word in temp if word not in set(stopword)]\n",
        "    temp=' '.join(temp)\n",
        "    X[i]=temp\n"
      ],
      "execution_count": 8,
      "outputs": []
    },
    {
      "cell_type": "code",
      "metadata": {
        "id": "j81UUoCeyk6t"
      },
      "source": [
        "cv=CountVectorizer()\n",
        "\n",
        "X=cv.fit_transform(X).toarray()\n",
        "\n",
        "X_train,X_test,y_train,y_test=train_test_split(X,y,test_size=0.3)"
      ],
      "execution_count": 9,
      "outputs": []
    },
    {
      "cell_type": "code",
      "metadata": {
        "id": "jDIvKzRGPm0T",
        "colab": {
          "base_uri": "https://localhost:8080/"
        },
        "outputId": "08476427-b47c-4c2e-e8fe-c5037c4ee9b5"
      },
      "source": [
        "classifier=[GaussianNB(),MultinomialNB(),GradientBoostingClassifier(),RandomForestClassifier(),SVC(),BaggingClassifier()]\n",
        "names=[\"GaussianNb\",'MultiNomialNB','Gradient Boosting','Random Forest','Support Vector','bagging']\n",
        "accuracy=[]\n",
        "rocscore=[]\n",
        "f1=[]\n",
        "log=[]\n",
        "precision=[]\n",
        "recall=[]\n",
        "\n",
        "for i in range(len(classifier)):\n",
        "    model=classifier[i]\n",
        "    model.fit(X_train,y_train.values.ravel())\n",
        "    y_pred=model.predict(X_test)\n",
        "    acc=accuracy_score(y_test,y_pred)\n",
        "    accuracy.append(acc)\n",
        "    roc=roc_auc_score(y_test,y_pred)\n",
        "    rocscore.append(roc)\n",
        "    matrix=confusion_matrix(y_test,y_pred)\n",
        "    print('\\n\\n','\\033[1m',names[i],'\\033[0m')\n",
        "    loss=log_loss(y_test,y_pred)\n",
        "    f1s=f1_score(y_test,y_pred)\n",
        "    log.append(loss)\n",
        "    f1.append(f1s)\n",
        "    prec=precision_score(y_test,y_pred)\n",
        "    precision.append(prec)\n",
        "    rec=recall_score(y_test,y_pred)\n",
        "    recall.append(rec)\n",
        "    print('Accuracy score : ',acc)\n",
        "    print('ROC score : ',roc)\n",
        "    print('F1 score : ',f1s)\n",
        "    print('Precision score : ',prec)\n",
        "    print('Recall score : ',rec)\n",
        "    print('Log-Loss : ',loss)\n",
        "    print('Confusion Matrix : \\n',matrix)"
      ],
      "execution_count": 10,
      "outputs": [
        {
          "output_type": "stream",
          "name": "stdout",
          "text": [
            "\n",
            "\n",
            " \u001b[1m GaussianNb \u001b[0m\n",
            "Accuracy score :  0.8947368421052632\n",
            "ROC score :  0.884892644212272\n",
            "F1 score :  0.697594501718213\n",
            "Precision score :  0.5816618911174785\n",
            "Recall score :  0.871244635193133\n",
            "Log-Loss :  3.635730494455197\n",
            "Confusion Matrix : \n",
            " [[1293  146]\n",
            " [  30  203]]\n",
            "\n",
            "\n",
            " \u001b[1m MultiNomialNB \u001b[0m\n",
            "Accuracy score :  0.9754784688995215\n",
            "ROC score :  0.9605755666041332\n",
            "F1 score :  0.9144050104384134\n",
            "Precision score :  0.8902439024390244\n",
            "Recall score :  0.9399141630901288\n",
            "Log-Loss :  0.8469565916997337\n",
            "Confusion Matrix : \n",
            " [[1412   27]\n",
            " [  14  219]]\n",
            "\n",
            "\n",
            " \u001b[1m Gradient Boosting \u001b[0m\n",
            "Accuracy score :  0.9629186602870813\n",
            "ROC score :  0.8669527896995708\n",
            "F1 score :  0.8465346534653465\n",
            "Precision score :  1.0\n",
            "Recall score :  0.7339055793991416\n",
            "Log-Loss :  1.2807441007682197\n",
            "Confusion Matrix : \n",
            " [[1439    0]\n",
            " [  62  171]]\n",
            "\n",
            "\n",
            " \u001b[1m Random Forest \u001b[0m\n",
            "Accuracy score :  0.9706937799043063\n",
            "ROC score :  0.8948497854077253\n",
            "F1 score :  0.882494004796163\n",
            "Precision score :  1.0\n",
            "Recall score :  0.7896995708154506\n",
            "Log-Loss :  1.0122009828652063\n",
            "Confusion Matrix : \n",
            " [[1439    0]\n",
            " [  49  184]]\n",
            "\n",
            "\n",
            " \u001b[1m Support Vector \u001b[0m\n",
            "Accuracy score :  0.9683014354066986\n",
            "ROC score :  0.8862660944206009\n",
            "F1 score :  0.8716707021791766\n",
            "Precision score :  1.0\n",
            "Recall score :  0.7725321888412017\n",
            "Log-Loss :  1.094829634527672\n",
            "Confusion Matrix : \n",
            " [[1439    0]\n",
            " [  53  180]]\n",
            "\n",
            "\n",
            " \u001b[1m bagging \u001b[0m\n",
            "Accuracy score :  0.9659090909090909\n",
            "ROC score :  0.886674699585728\n",
            "F1 score :  0.8639618138424822\n",
            "Precision score :  0.9731182795698925\n",
            "Recall score :  0.776824034334764\n",
            "Log-Loss :  1.1774606773307783\n",
            "Confusion Matrix : \n",
            " [[1434    5]\n",
            " [  52  181]]\n"
          ]
        }
      ]
    },
    {
      "cell_type": "code",
      "metadata": {
        "id": "r8goH6fCaY5k",
        "colab": {
          "base_uri": "https://localhost:8080/",
          "height": 237
        },
        "outputId": "2490f7c0-d8d6-4210-b8e9-13dfe4f8f489"
      },
      "source": [
        "performance=pd.DataFrame({'Name':names,'Accuracy Score':acc,'ROC AUC score':roc,'F1 Score':f1,'Log-Loss':log,'Precision':precision,'Recall':recall})\n",
        "performance.head(10)"
      ],
      "execution_count": 11,
      "outputs": [
        {
          "output_type": "execute_result",
          "data": {
            "text/html": [
              "<div>\n",
              "<style scoped>\n",
              "    .dataframe tbody tr th:only-of-type {\n",
              "        vertical-align: middle;\n",
              "    }\n",
              "\n",
              "    .dataframe tbody tr th {\n",
              "        vertical-align: top;\n",
              "    }\n",
              "\n",
              "    .dataframe thead th {\n",
              "        text-align: right;\n",
              "    }\n",
              "</style>\n",
              "<table border=\"1\" class=\"dataframe\">\n",
              "  <thead>\n",
              "    <tr style=\"text-align: right;\">\n",
              "      <th></th>\n",
              "      <th>Name</th>\n",
              "      <th>Accuracy Score</th>\n",
              "      <th>ROC AUC score</th>\n",
              "      <th>F1 Score</th>\n",
              "      <th>Log-Loss</th>\n",
              "      <th>Precision</th>\n",
              "      <th>Recall</th>\n",
              "    </tr>\n",
              "  </thead>\n",
              "  <tbody>\n",
              "    <tr>\n",
              "      <th>0</th>\n",
              "      <td>GaussianNb</td>\n",
              "      <td>0.965909</td>\n",
              "      <td>0.886675</td>\n",
              "      <td>0.697595</td>\n",
              "      <td>3.635730</td>\n",
              "      <td>0.581662</td>\n",
              "      <td>0.871245</td>\n",
              "    </tr>\n",
              "    <tr>\n",
              "      <th>1</th>\n",
              "      <td>MultiNomialNB</td>\n",
              "      <td>0.965909</td>\n",
              "      <td>0.886675</td>\n",
              "      <td>0.914405</td>\n",
              "      <td>0.846957</td>\n",
              "      <td>0.890244</td>\n",
              "      <td>0.939914</td>\n",
              "    </tr>\n",
              "    <tr>\n",
              "      <th>2</th>\n",
              "      <td>Gradient Boosting</td>\n",
              "      <td>0.965909</td>\n",
              "      <td>0.886675</td>\n",
              "      <td>0.846535</td>\n",
              "      <td>1.280744</td>\n",
              "      <td>1.000000</td>\n",
              "      <td>0.733906</td>\n",
              "    </tr>\n",
              "    <tr>\n",
              "      <th>3</th>\n",
              "      <td>Random Forest</td>\n",
              "      <td>0.965909</td>\n",
              "      <td>0.886675</td>\n",
              "      <td>0.882494</td>\n",
              "      <td>1.012201</td>\n",
              "      <td>1.000000</td>\n",
              "      <td>0.789700</td>\n",
              "    </tr>\n",
              "    <tr>\n",
              "      <th>4</th>\n",
              "      <td>Support Vector</td>\n",
              "      <td>0.965909</td>\n",
              "      <td>0.886675</td>\n",
              "      <td>0.871671</td>\n",
              "      <td>1.094830</td>\n",
              "      <td>1.000000</td>\n",
              "      <td>0.772532</td>\n",
              "    </tr>\n",
              "    <tr>\n",
              "      <th>5</th>\n",
              "      <td>bagging</td>\n",
              "      <td>0.965909</td>\n",
              "      <td>0.886675</td>\n",
              "      <td>0.863962</td>\n",
              "      <td>1.177461</td>\n",
              "      <td>0.973118</td>\n",
              "      <td>0.776824</td>\n",
              "    </tr>\n",
              "  </tbody>\n",
              "</table>\n",
              "</div>"
            ],
            "text/plain": [
              "                Name  Accuracy Score  ...  Precision    Recall\n",
              "0         GaussianNb        0.965909  ...   0.581662  0.871245\n",
              "1      MultiNomialNB        0.965909  ...   0.890244  0.939914\n",
              "2  Gradient Boosting        0.965909  ...   1.000000  0.733906\n",
              "3      Random Forest        0.965909  ...   1.000000  0.789700\n",
              "4     Support Vector        0.965909  ...   1.000000  0.772532\n",
              "5            bagging        0.965909  ...   0.973118  0.776824\n",
              "\n",
              "[6 rows x 7 columns]"
            ]
          },
          "metadata": {},
          "execution_count": 11
        }
      ]
    },
    {
      "cell_type": "markdown",
      "metadata": {
        "id": "qBfx4KxQm7AP"
      },
      "source": [
        "# Support vector Machine "
      ]
    },
    {
      "cell_type": "code",
      "metadata": {
        "id": "2eqt-0nmnCgc"
      },
      "source": [
        "## Run this if you want to tune the parameters else run the cell below this.\n",
        "\n",
        "from sklearn.model_selection import GridSearchCV\n",
        " \n",
        "# defining parameter range\n",
        "parameters = {'C': [0.1, 1, 10, 100,1000],\n",
        "              'gamma': [1, 0.1, 0.01,0.001],\n",
        "              'kernel': ['rbf','poly','sigmoid','linear']\n",
        "              }\n",
        " \n",
        "model = GridSearchCV(SVC(), parameters, refit = True, verbose = 3)\n",
        " \n",
        "# fitting the model for grid search\n",
        "model.fit(X_train, y_train.values.ravel())\n",
        "\n",
        "print(model.best_params_)\n",
        "print(model.best_estimator_)"
      ],
      "execution_count": null,
      "outputs": []
    },
    {
      "cell_type": "code",
      "metadata": {
        "id": "PxFpIeuFoAf0",
        "colab": {
          "base_uri": "https://localhost:8080/"
        },
        "outputId": "053c90a8-b9b9-4d4a-c050-9f2bc10e63d1"
      },
      "source": [
        "model=SVC()\n",
        "model.fit(X_train,y_train.values.ravel())"
      ],
      "execution_count": 12,
      "outputs": [
        {
          "output_type": "execute_result",
          "data": {
            "text/plain": [
              "SVC()"
            ]
          },
          "metadata": {},
          "execution_count": 12
        }
      ]
    },
    {
      "cell_type": "code",
      "metadata": {
        "id": "lucyaWManlk8",
        "colab": {
          "base_uri": "https://localhost:8080/"
        },
        "outputId": "5759f78b-d5c5-4c06-861e-8dafc86fa5dd"
      },
      "source": [
        "y_pred = model.predict(X_test)\n",
        "print('Classification Report : \\n',classification_report(y_test,y_pred))\n",
        "print('\\nConfusion Matrix\\n',confusion_matrix(y_test,y_pred))"
      ],
      "execution_count": 13,
      "outputs": [
        {
          "output_type": "stream",
          "name": "stdout",
          "text": [
            "Classification Report : \n",
            "               precision    recall  f1-score   support\n",
            "\n",
            "           0       0.96      1.00      0.98      1439\n",
            "           1       1.00      0.77      0.87       233\n",
            "\n",
            "    accuracy                           0.97      1672\n",
            "   macro avg       0.98      0.89      0.93      1672\n",
            "weighted avg       0.97      0.97      0.97      1672\n",
            "\n",
            "\n",
            "Confusion Matrix\n",
            " [[1439    0]\n",
            " [  53  180]]\n"
          ]
        }
      ]
    },
    {
      "cell_type": "markdown",
      "metadata": {
        "id": "yzeEZeW6npTJ"
      },
      "source": [
        "# Saving the Model"
      ]
    },
    {
      "cell_type": "code",
      "metadata": {
        "id": "RM2sUyYAno4p",
        "colab": {
          "base_uri": "https://localhost:8080/"
        },
        "outputId": "541b1539-5a96-4016-a71c-77cc2d988d34"
      },
      "source": [
        "import joblib\n",
        "\n",
        "joblib.dump(model,'mymodel.pkl')"
      ],
      "execution_count": 14,
      "outputs": [
        {
          "output_type": "execute_result",
          "data": {
            "text/plain": [
              "['mymodel.pkl']"
            ]
          },
          "metadata": {},
          "execution_count": 14
        }
      ]
    }
  ]
}