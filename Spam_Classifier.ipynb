{
  "nbformat": 4,
  "nbformat_minor": 0,
  "metadata": {
    "colab": {
      "name": "Spam Classifier.ipynb",
      "provenance": [],
      "collapsed_sections": [],
      "authorship_tag": "ABX9TyOjJaQYkSVIhi4yF6MykLBA",
      "include_colab_link": true
    },
    "kernelspec": {
      "name": "python3",
      "display_name": "Python 3"
    },
    "language_info": {
      "name": "python"
    },
    "accelerator": "TPU"
  },
  "cells": [
    {
      "cell_type": "markdown",
      "metadata": {
        "id": "view-in-github",
        "colab_type": "text"
      },
      "source": [
        "<a href=\"https://colab.research.google.com/github/nitish-pandey/Spam-Classification/blob/main/Spam_Classifier.ipynb\" target=\"_parent\"><img src=\"https://colab.research.google.com/assets/colab-badge.svg\" alt=\"Open In Colab\"/></a>"
      ]
    },
    {
      "cell_type": "markdown",
      "metadata": {
        "id": "GCH2YHf_tMlz"
      },
      "source": [
        "## Basic Imports"
      ]
    },
    {
      "cell_type": "code",
      "metadata": {
        "id": "xJ_zyRVHs_1Y"
      },
      "source": [
        "from os import remove\n",
        "import pandas as pd\n",
        "import numpy \n",
        "import sklearn\n",
        "import re"
      ],
      "execution_count": null,
      "outputs": []
    },
    {
      "cell_type": "code",
      "metadata": {
        "id": "1B-tq-Hky6VL",
        "colab": {
          "base_uri": "https://localhost:8080/"
        },
        "outputId": "79ab6a71-38e5-498a-bde6-8d75d70e8030"
      },
      "source": [
        "import nltk\n",
        "nltk.download('stopwords')\n",
        "nltk.download('wordnet')\n",
        "nltk.download('punkt')"
      ],
      "execution_count": null,
      "outputs": [
        {
          "output_type": "stream",
          "name": "stdout",
          "text": [
            "[nltk_data] Downloading package stopwords to /root/nltk_data...\n",
            "[nltk_data]   Unzipping corpora/stopwords.zip.\n",
            "[nltk_data] Downloading package wordnet to /root/nltk_data...\n",
            "[nltk_data]   Unzipping corpora/wordnet.zip.\n",
            "[nltk_data] Downloading package punkt to /root/nltk_data...\n",
            "[nltk_data]   Unzipping tokenizers/punkt.zip.\n"
          ]
        },
        {
          "output_type": "execute_result",
          "data": {
            "text/plain": [
              "True"
            ]
          },
          "metadata": {},
          "execution_count": 2
        }
      ]
    },
    {
      "cell_type": "code",
      "metadata": {
        "id": "5NhOp8L9tZoz"
      },
      "source": [
        "from nltk.corpus import stopwords\n",
        "from nltk.tokenize import sent_tokenize,word_tokenize\n",
        "from nltk.stem import WordNetLemmatizer\n",
        "\n",
        "from sklearn.feature_extraction.text import CountVectorizer\n",
        "from sklearn.model_selection import train_test_split\n",
        "from sklearn.metrics import confusion_matrix,accuracy_score,roc_auc_score,f1_score,log_loss,precision_score,recall_score,classification_report\n",
        "\n",
        "from sklearn.naive_bayes import GaussianNB,MultinomialNB"
      ],
      "execution_count": null,
      "outputs": []
    },
    {
      "cell_type": "markdown",
      "metadata": {
        "id": "xM6Tanbjt11X"
      },
      "source": [
        "# Data imports and preprocessing"
      ]
    },
    {
      "cell_type": "code",
      "metadata": {
        "id": "arIsEXbDtb63",
        "colab": {
          "base_uri": "https://localhost:8080/",
          "height": 206
        },
        "outputId": "6eabe0da-14a7-4acc-95b6-97849f271ac3"
      },
      "source": [
        "dataset=pd.read_csv(r'/content/spam.csv',encoding='latin-1')\n",
        "dataset.head()"
      ],
      "execution_count": null,
      "outputs": [
        {
          "output_type": "execute_result",
          "data": {
            "text/html": [
              "<div>\n",
              "<style scoped>\n",
              "    .dataframe tbody tr th:only-of-type {\n",
              "        vertical-align: middle;\n",
              "    }\n",
              "\n",
              "    .dataframe tbody tr th {\n",
              "        vertical-align: top;\n",
              "    }\n",
              "\n",
              "    .dataframe thead th {\n",
              "        text-align: right;\n",
              "    }\n",
              "</style>\n",
              "<table border=\"1\" class=\"dataframe\">\n",
              "  <thead>\n",
              "    <tr style=\"text-align: right;\">\n",
              "      <th></th>\n",
              "      <th>v1</th>\n",
              "      <th>v2</th>\n",
              "      <th>Unnamed: 2</th>\n",
              "      <th>Unnamed: 3</th>\n",
              "      <th>Unnamed: 4</th>\n",
              "    </tr>\n",
              "  </thead>\n",
              "  <tbody>\n",
              "    <tr>\n",
              "      <th>0</th>\n",
              "      <td>ham</td>\n",
              "      <td>Go until jurong point, crazy.. Available only ...</td>\n",
              "      <td>NaN</td>\n",
              "      <td>NaN</td>\n",
              "      <td>NaN</td>\n",
              "    </tr>\n",
              "    <tr>\n",
              "      <th>1</th>\n",
              "      <td>ham</td>\n",
              "      <td>Ok lar... Joking wif u oni...</td>\n",
              "      <td>NaN</td>\n",
              "      <td>NaN</td>\n",
              "      <td>NaN</td>\n",
              "    </tr>\n",
              "    <tr>\n",
              "      <th>2</th>\n",
              "      <td>spam</td>\n",
              "      <td>Free entry in 2 a wkly comp to win FA Cup fina...</td>\n",
              "      <td>NaN</td>\n",
              "      <td>NaN</td>\n",
              "      <td>NaN</td>\n",
              "    </tr>\n",
              "    <tr>\n",
              "      <th>3</th>\n",
              "      <td>ham</td>\n",
              "      <td>U dun say so early hor... U c already then say...</td>\n",
              "      <td>NaN</td>\n",
              "      <td>NaN</td>\n",
              "      <td>NaN</td>\n",
              "    </tr>\n",
              "    <tr>\n",
              "      <th>4</th>\n",
              "      <td>ham</td>\n",
              "      <td>Nah I don't think he goes to usf, he lives aro...</td>\n",
              "      <td>NaN</td>\n",
              "      <td>NaN</td>\n",
              "      <td>NaN</td>\n",
              "    </tr>\n",
              "  </tbody>\n",
              "</table>\n",
              "</div>"
            ],
            "text/plain": [
              "     v1  ... Unnamed: 4\n",
              "0   ham  ...        NaN\n",
              "1   ham  ...        NaN\n",
              "2  spam  ...        NaN\n",
              "3   ham  ...        NaN\n",
              "4   ham  ...        NaN\n",
              "\n",
              "[5 rows x 5 columns]"
            ]
          },
          "metadata": {},
          "execution_count": 4
        }
      ]
    },
    {
      "cell_type": "code",
      "metadata": {
        "id": "55nvGnWEt7Go",
        "colab": {
          "base_uri": "https://localhost:8080/"
        },
        "outputId": "34bb3510-0709-4906-8d5d-f9c288e7f71f"
      },
      "source": [
        "X=dataset['v2']\n",
        "y=dataset['v1']\n",
        "\n",
        "y=pd.get_dummies(y,drop_first=True)\n",
        "print(y.head(),'\\n\\n',X.head())"
      ],
      "execution_count": null,
      "outputs": [
        {
          "output_type": "stream",
          "name": "stdout",
          "text": [
            "   spam\n",
            "0     0\n",
            "1     0\n",
            "2     1\n",
            "3     0\n",
            "4     0 \n",
            "\n",
            " 0    Go until jurong point, crazy.. Available only ...\n",
            "1                        Ok lar... Joking wif u oni...\n",
            "2    Free entry in 2 a wkly comp to win FA Cup fina...\n",
            "3    U dun say so early hor... U c already then say...\n",
            "4    Nah I don't think he goes to usf, he lives aro...\n",
            "Name: v2, dtype: object\n"
          ]
        }
      ]
    },
    {
      "cell_type": "markdown",
      "metadata": {
        "id": "JhLgCDAkw59A"
      },
      "source": [
        "# Data Cleaning"
      ]
    },
    {
      "cell_type": "code",
      "metadata": {
        "id": "JQ-z1U1Jw8Uv",
        "colab": {
          "base_uri": "https://localhost:8080/"
        },
        "outputId": "a2c99c56-e979-483d-f034-bdf96ff1ac6f"
      },
      "source": [
        "stopword=set(stopwords.words('english'))\n",
        "\n",
        "lemmatizer=WordNetLemmatizer()\n",
        "\n",
        "n,=X.shape\n",
        "n"
      ],
      "execution_count": null,
      "outputs": [
        {
          "output_type": "execute_result",
          "data": {
            "text/plain": [
              "5572"
            ]
          },
          "metadata": {},
          "execution_count": 6
        }
      ]
    },
    {
      "cell_type": "code",
      "metadata": {
        "id": "cznknW6Nyfsz"
      },
      "source": [
        "for i in range(n):\n",
        "    temp=re.sub('[^a-zA-Z]',' ',X[i])\n",
        "    temp=temp.lower()\n",
        "    temp=temp.split()\n",
        "    temp=[lemmatizer.lemmatize(word) for word in temp if word not in set(stopword)]\n",
        "    temp=' '.join(temp)\n",
        "    X[i]=temp\n"
      ],
      "execution_count": null,
      "outputs": []
    },
    {
      "cell_type": "code",
      "metadata": {
        "id": "j81UUoCeyk6t"
      },
      "source": [
        "cv=CountVectorizer()\n",
        "\n",
        "X=cv.fit_transform(X).toarray()\n",
        "\n",
        "X_train,X_test,y_train,y_test=train_test_split(X,y,test_size=0.3)"
      ],
      "execution_count": null,
      "outputs": []
    },
    {
      "cell_type": "markdown",
      "metadata": {
        "id": "qBfx4KxQm7AP"
      },
      "source": [
        "# Machine learning implementation"
      ]
    },
    {
      "cell_type": "code",
      "metadata": {
        "id": "PxFpIeuFoAf0",
        "colab": {
          "base_uri": "https://localhost:8080/"
        },
        "outputId": "0bbf90d1-d88a-4c50-8de3-c8977ade3341"
      },
      "source": [
        "model=MultinomialNB()\n",
        "model.fit(X_train,y_train.values.ravel())"
      ],
      "execution_count": null,
      "outputs": [
        {
          "output_type": "execute_result",
          "data": {
            "text/plain": [
              "MultinomialNB()"
            ]
          },
          "metadata": {},
          "execution_count": 10
        }
      ]
    },
    {
      "cell_type": "code",
      "metadata": {
        "id": "lucyaWManlk8",
        "colab": {
          "base_uri": "https://localhost:8080/"
        },
        "outputId": "990735c6-f137-495a-ebc0-824b7a5af705"
      },
      "source": [
        "y_pred = model.predict(X_test)\n",
        "print('Classification Report : \\n',classification_report(y_test,y_pred))\n",
        "print('\\nConfusion Matrix\\n',confusion_matrix(y_test,y_pred))"
      ],
      "execution_count": null,
      "outputs": [
        {
          "output_type": "stream",
          "name": "stdout",
          "text": [
            "Classification Report : \n",
            "               precision    recall  f1-score   support\n",
            "\n",
            "           0       0.99      0.98      0.99      1450\n",
            "           1       0.88      0.96      0.92       222\n",
            "\n",
            "    accuracy                           0.98      1672\n",
            "   macro avg       0.94      0.97      0.95      1672\n",
            "weighted avg       0.98      0.98      0.98      1672\n",
            "\n",
            "\n",
            "Confusion Matrix\n",
            " [[1420   30]\n",
            " [   9  213]]\n"
          ]
        }
      ]
    },
    {
      "cell_type": "markdown",
      "metadata": {
        "id": "yzeEZeW6npTJ"
      },
      "source": [
        "# Saving the Model"
      ]
    },
    {
      "cell_type": "code",
      "metadata": {
        "id": "RM2sUyYAno4p",
        "colab": {
          "base_uri": "https://localhost:8080/"
        },
        "outputId": "b0395cde-35fc-4cb4-9cfd-ec5d206d639e"
      },
      "source": [
        "import joblib\n",
        "\n",
        "joblib.dump(model,'mymodel.pkl')\n",
        "joblib.dump(cv,'countvector.pkl')"
      ],
      "execution_count": null,
      "outputs": [
        {
          "output_type": "execute_result",
          "data": {
            "text/plain": [
              "['countvector.pkl']"
            ]
          },
          "metadata": {},
          "execution_count": 12
        }
      ]
    }
  ]
}